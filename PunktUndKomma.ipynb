{
 "cells": [
  {
   "cell_type": "code",
   "execution_count": 1,
   "metadata": {
    "collapsed": false
   },
   "outputs": [
    {
     "name": "stderr",
     "output_type": "stream",
     "text": [
      "Using TensorFlow backend.\n"
     ]
    }
   ],
   "source": [
    "import keras\n",
    "from random import randint\n",
    "from keras.models import Sequential\n",
    "from keras.preprocessing import text, sequence\n",
    "from keras.layers import Dense, Activation, Embedding, LSTM, Masking\n",
    "from keras.optimizers import SGD\n",
    "import numpy as np"
   ]
  },
  {
   "cell_type": "code",
   "execution_count": 7,
   "metadata": {
    "collapsed": true
   },
   "outputs": [],
   "source": [
    "maxlen = 80 # cut texts after this number of words (among top max_features most common words)\n",
    "max_features = 200 # Anzahl der Wörter\n",
    "trainset_size=50\n",
    "testset_size=10\n",
    "lookahead = 5\n",
    "epochs=40\n",
    "RESULTS={\n",
    "        '.': 1,\n",
    "        ',': 2,\n",
    "        '!': 3,\n",
    "        '?': 4,\n",
    "    }"
   ]
  },
  {
   "cell_type": "code",
   "execution_count": 3,
   "metadata": {
    "collapsed": false
   },
   "outputs": [
    {
     "name": "stdout",
     "output_type": "stream",
     "text": [
      "Total number of words: 114562\n"
     ]
    }
   ],
   "source": [
    "dataset = open(\"dataset.txt\")\n",
    "all_data = dataset.read().split()\n",
    "all_words = list(filter(None, all_data))  # remove empty strings\n",
    "print(\"Total number of words: {}\".format( len(all_words)))"
   ]
  },
  {
   "cell_type": "code",
   "execution_count": 4,
   "metadata": {
    "collapsed": false
   },
   "outputs": [],
   "source": [
    "model = Sequential()\n",
    "\n",
    "model.add(Masking(mask_value=0, input_shape=(maxlen, max_features)))\n",
    "#model.add(Embedding(max_features, 128, input_length=maxlen, dropout=0.2))\n",
    "model.add(LSTM(128, dropout_W=0.2, dropout_U=0.2))  # try using a GRU instead, for fun\n",
    "model.add(Dense(len(RESULTS)+1))\n",
    "#model.add(Activation('relu'))\n",
    "\n",
    "# try using different optimizers and different optimizer configs\n",
    "model.compile(loss='binary_crossentropy',\n",
    "              optimizer='adam',  metrics=['accuracy'])"
   ]
  },
  {
   "cell_type": "code",
   "execution_count": 11,
   "metadata": {
    "collapsed": false
   },
   "outputs": [],
   "source": [
    "def last_char_to_result(last_char):\n",
    "    i = RESULTS.get(last_char, 0)\n",
    "    result = [0]*(len(RESULTS)+1)\n",
    "    result[i] = 1\n",
    "    return result\n",
    "\n",
    "def clean(string):\n",
    "    return string.replace(\".\", \"\").replace(\",\", \"\").replace(\"!\", \"\").replace(\"?\", \"\")\n",
    "\n",
    "def load_sample(skip= True):\n",
    "    sentence=[] # ['word','word',...]\n",
    "    result=[] # [0,1,0,0,0] #6\n",
    "    offset = randint(0, max(len(all_words), len(all_words) - maxlen - 2))\n",
    "    num_words = randint(2, maxlen)\n",
    "    sentence = all_words[offset:(offset+num_words)]\n",
    "    if sentence == [] or sentence[-1] == '':\n",
    "        return load_sample(skip)\n",
    "    if len(sentence) <= lookahead: \n",
    "        return load_sample(skip)\n",
    "    last_char = sentence[-1-lookahead][-1]\n",
    "    result = last_char_to_result(last_char)\n",
    "    if (skip and (RESULTS.get(last_char, 0) == 0) and (randint(0,100)>30)):\n",
    "        return load_sample(skip)\n",
    "    sentence = list(map(clean, sentence))\n",
    "    return (\" \".join(sentence),result)\n",
    "\n",
    "def transform(sentence):\n",
    "    x = text.one_hot(sentence, max_features, lower=True, filters=\" \")\n",
    "    x_new = [ [0 if t != i else 1 for i in range(max_features)] for t in x]\n",
    "    for i in range(maxlen-len(x_new)):\n",
    "        x_new.append( [0]*200 )\n",
    "    return x_new\n",
    "\n",
    "def create_dataset(size, skip= True):\n",
    "    X=[];y=[]\n",
    "    for iteration in range(0, size):\n",
    "        sentence, result = load_sample(skip)\n",
    "        X.append(transform(sentence)) \n",
    "        y.append(result)\n",
    "    return np.array(X), np.array(y)"
   ]
  },
  {
   "cell_type": "code",
   "execution_count": 12,
   "metadata": {
    "collapsed": false
   },
   "outputs": [
    {
     "name": "stdout",
     "output_type": "stream",
     "text": [
      "Epoch 1/40\n",
      "50/50 [==============================] - 3s - loss: 2.0387 - acc: 0.2000     \n",
      "Epoch 2/40\n",
      "50/50 [==============================] - 1s - loss: 1.2975 - acc: 0.4200     \n",
      "Epoch 3/40\n",
      "50/50 [==============================] - 1s - loss: 0.9696 - acc: 0.6000     \n",
      "Epoch 4/40\n",
      "50/50 [==============================] - 1s - loss: 0.9025 - acc: 0.5800     \n",
      "Epoch 5/40\n",
      "50/50 [==============================] - 1s - loss: 0.7693 - acc: 0.7200     \n",
      "Epoch 6/40\n",
      "50/50 [==============================] - 1s - loss: 0.6220 - acc: 0.7600     \n",
      "Epoch 7/40\n",
      "50/50 [==============================] - 1s - loss: 0.6020 - acc: 0.6600     \n",
      "Epoch 8/40\n",
      "50/50 [==============================] - 1s - loss: 0.6792 - acc: 0.6600     \n",
      "Epoch 9/40\n",
      "50/50 [==============================] - 1s - loss: 0.8874 - acc: 0.6600     \n",
      "Epoch 10/40\n",
      "50/50 [==============================] - 1s - loss: 0.7206 - acc: 0.6600     \n",
      "Epoch 11/40\n",
      "50/50 [==============================] - 1s - loss: 0.6409 - acc: 0.6800     \n",
      "Epoch 12/40\n",
      "50/50 [==============================] - 1s - loss: 0.5818 - acc: 0.7200     \n",
      "Epoch 13/40\n",
      "50/50 [==============================] - 1s - loss: 0.6377 - acc: 0.7400     \n",
      "Epoch 14/40\n",
      "50/50 [==============================] - 1s - loss: 0.6616 - acc: 0.7600     \n",
      "Epoch 15/40\n",
      "50/50 [==============================] - 1s - loss: 0.6779 - acc: 0.7200     \n",
      "Epoch 16/40\n",
      "50/50 [==============================] - 1s - loss: 0.3264 - acc: 0.7200     \n",
      "Epoch 17/40\n",
      "50/50 [==============================] - 1s - loss: 0.4945 - acc: 0.7800     \n",
      "Epoch 18/40\n",
      "50/50 [==============================] - 1s - loss: 0.5111 - acc: 0.7000     \n",
      "Epoch 19/40\n",
      "50/50 [==============================] - 1s - loss: 0.5202 - acc: 0.7200     \n",
      "Epoch 20/40\n",
      "50/50 [==============================] - 1s - loss: 0.3605 - acc: 0.7000     \n",
      "Epoch 21/40\n",
      "50/50 [==============================] - 1s - loss: 0.3542 - acc: 0.8000     \n",
      "Epoch 22/40\n",
      "50/50 [==============================] - 1s - loss: 0.3345 - acc: 0.7000     \n",
      "Epoch 23/40\n",
      "50/50 [==============================] - 1s - loss: 0.2871 - acc: 0.7000     \n",
      "Epoch 24/40\n",
      "50/50 [==============================] - 1s - loss: 0.4460 - acc: 0.7200     \n",
      "Epoch 25/40\n",
      "50/50 [==============================] - 1s - loss: 0.2845 - acc: 0.7000     \n",
      "Epoch 26/40\n",
      "50/50 [==============================] - 1s - loss: 0.2525 - acc: 0.7600     \n",
      "Epoch 27/40\n",
      "50/50 [==============================] - 1s - loss: 0.4048 - acc: 0.7600     \n",
      "Epoch 28/40\n",
      "50/50 [==============================] - 1s - loss: 0.3444 - acc: 0.7400     \n",
      "Epoch 29/40\n",
      "50/50 [==============================] - 1s - loss: 0.4269 - acc: 0.7200     \n",
      "Epoch 30/40\n",
      "50/50 [==============================] - 1s - loss: 0.3039 - acc: 0.7200     \n",
      "Epoch 31/40\n",
      "50/50 [==============================] - 1s - loss: 0.2119 - acc: 0.7400     \n",
      "Epoch 32/40\n",
      "50/50 [==============================] - 1s - loss: 0.3731 - acc: 0.7600     \n",
      "Epoch 33/40\n",
      "50/50 [==============================] - 1s - loss: 0.2937 - acc: 0.7200     \n",
      "Epoch 34/40\n",
      "50/50 [==============================] - 1s - loss: 0.2113 - acc: 0.8200     \n",
      "Epoch 35/40\n",
      "50/50 [==============================] - 1s - loss: 0.2842 - acc: 0.8200     \n",
      "Epoch 36/40\n",
      "50/50 [==============================] - 1s - loss: 0.2334 - acc: 0.8200     \n",
      "Epoch 37/40\n",
      "50/50 [==============================] - 0s - loss: 0.2199 - acc: 0.8600     \n",
      "Epoch 38/40\n",
      "50/50 [==============================] - 1s - loss: 0.2309 - acc: 0.8000     \n",
      "Epoch 39/40\n",
      "50/50 [==============================] - 1s - loss: 0.2244 - acc: 0.8000     \n",
      "Epoch 40/40\n",
      "50/50 [==============================] - 1s - loss: 0.1984 - acc: 0.9000     \n"
     ]
    },
    {
     "data": {
      "text/plain": [
       "<keras.callbacks.History at 0x7f8d55a3b320>"
      ]
     },
     "execution_count": 12,
     "metadata": {},
     "output_type": "execute_result"
    }
   ],
   "source": [
    "X, y = create_dataset(trainset_size)\n",
    "\n",
    "model.fit(X, y, nb_epoch=epochs)"
   ]
  },
  {
   "cell_type": "code",
   "execution_count": null,
   "metadata": {
    "collapsed": false
   },
   "outputs": [],
   "source": [
    "X_test, y_test = create_dataset(testset_size, False)\n",
    "score, acc = model.evaluate(X_test, y_test)\n",
    "print('Test score:', score)\n",
    "print('Test accuracy:', acc)"
   ]
  },
  {
   "cell_type": "code",
   "execution_count": 18,
   "metadata": {
    "collapsed": false
   },
   "outputs": [],
   "source": [
    "cfg = model.get_config()\n",
    "mdl = Sequential.from_config(cfg)"
   ]
  },
  {
   "cell_type": "code",
   "execution_count": null,
   "metadata": {
    "collapsed": false,
    "scrolled": true
   },
   "outputs": [],
   "source": [
    "satz,r = load_sample()\n",
    "y = model.predict(np.array([transform(satz)]))[-1]\n",
    "\n",
    "inv_results = {v: k for k, v in RESULTS.items()}\n",
    "i=0\n",
    "max_pos = np.argmax(y)\n",
    "for prob in y:\n",
    "    char = inv_results.get(i, ' ')\n",
    "    ok = 'actual' if r[i]==1 else ''\n",
    "    ok = ok + (\" - predicted\" if max_pos == i else '')\n",
    "    print(char + \" = {:10.2f} \".format(prob*100) + (ok))\n",
    "    i = i+1\n",
    "    \n",
    "print(satz)"
   ]
  }
 ],
 "metadata": {
  "kernelspec": {
   "display_name": "Python 3",
   "language": "python",
   "name": "python3"
  },
  "language_info": {
   "codemirror_mode": {
    "name": "ipython",
    "version": 3.0
   },
   "file_extension": ".py",
   "mimetype": "text/x-python",
   "name": "python",
   "nbconvert_exporter": "python",
   "pygments_lexer": "ipython3",
   "version": "3.4.3"
  }
 },
 "nbformat": 4,
 "nbformat_minor": 0
}